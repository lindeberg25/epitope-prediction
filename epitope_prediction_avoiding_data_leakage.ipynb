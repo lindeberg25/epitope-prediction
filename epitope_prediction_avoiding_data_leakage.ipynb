{
  "nbformat": 4,
  "nbformat_minor": 0,
  "metadata": {
    "colab": {
      "name": "epitope-prediction_avoiding-data-leakage.ipynb",
      "provenance": [],
      "collapsed_sections": []
    },
    "kernelspec": {
      "name": "python3",
      "display_name": "Python 3"
    },
    "language_info": {
      "name": "python"
    }
  },
  "cells": [
    {
      "cell_type": "markdown",
      "metadata": {
        "id": "GhLgBSDaIyGF"
      },
      "source": [
        "**Analyzing the Immune Epitope Database (IEDB)**"
      ]
    },
    {
      "cell_type": "code",
      "metadata": {
        "colab": {
          "base_uri": "https://localhost:8080/"
        },
        "id": "NdSnRLS3lMkF",
        "outputId": "c4cd45a0-45d4-4624-e575-d500231587c6"
      },
      "source": [
        "from google.colab import drive\n",
        "drive.mount('/content/drive/')\n",
        "\n",
        "import os\n",
        "os.chdir('/content/drive/My Drive/Colab Notebooks/epitope-prediction')  "
      ],
      "execution_count": 1,
      "outputs": [
        {
          "output_type": "stream",
          "name": "stdout",
          "text": [
            "Drive already mounted at /content/drive/; to attempt to forcibly remount, call drive.mount(\"/content/drive/\", force_remount=True).\n"
          ]
        }
      ]
    },
    {
      "cell_type": "code",
      "metadata": {
        "colab": {
          "base_uri": "https://localhost:8080/"
        },
        "id": "rzf53ZGDl_xt",
        "outputId": "0a137d5d-34bd-4c10-ad81-7d1101ba8df3"
      },
      "source": [
        "import os\n",
        "for dirname, _, filenames in os.walk('./input'):\n",
        "    for filename in filenames:\n",
        "        print(os.path.join(dirname, filename))"
      ],
      "execution_count": 2,
      "outputs": [
        {
          "output_type": "stream",
          "name": "stdout",
          "text": [
            "./input/input_covid.csv\n",
            "./input/input_bcell.csv\n",
            "./input/input_sars.csv\n"
          ]
        }
      ]
    },
    {
      "cell_type": "code",
      "metadata": {
        "colab": {
          "base_uri": "https://localhost:8080/",
          "height": 191
        },
        "id": "SDEQDMI_mZmb",
        "outputId": "8f3754df-42af-4d32-9001-5701c4b24221"
      },
      "source": [
        "import pandas as pd \n",
        "\n",
        "# Importing the dataset\n",
        "bcell = pd.read_csv('./input/input_bcell.csv')\n",
        "\n",
        "# Only the b cell dataset is being used on this notebook for training and the covid dataset for testing (the sars dataset is not used for training)\n",
        "bcell.head()"
      ],
      "execution_count": 3,
      "outputs": [
        {
          "output_type": "execute_result",
          "data": {
            "text/html": [
              "<div>\n",
              "<style scoped>\n",
              "    .dataframe tbody tr th:only-of-type {\n",
              "        vertical-align: middle;\n",
              "    }\n",
              "\n",
              "    .dataframe tbody tr th {\n",
              "        vertical-align: top;\n",
              "    }\n",
              "\n",
              "    .dataframe thead th {\n",
              "        text-align: right;\n",
              "    }\n",
              "</style>\n",
              "<table border=\"1\" class=\"dataframe\">\n",
              "  <thead>\n",
              "    <tr style=\"text-align: right;\">\n",
              "      <th></th>\n",
              "      <th>parent_protein_id</th>\n",
              "      <th>protein_seq</th>\n",
              "      <th>start_position</th>\n",
              "      <th>end_position</th>\n",
              "      <th>peptide_seq</th>\n",
              "      <th>chou_fasman</th>\n",
              "      <th>emini</th>\n",
              "      <th>kolaskar_tongaonkar</th>\n",
              "      <th>parker</th>\n",
              "      <th>isoelectric_point</th>\n",
              "      <th>aromaticity</th>\n",
              "      <th>hydrophobicity</th>\n",
              "      <th>stability</th>\n",
              "      <th>target</th>\n",
              "    </tr>\n",
              "  </thead>\n",
              "  <tbody>\n",
              "    <tr>\n",
              "      <th>0</th>\n",
              "      <td>A2T3T0</td>\n",
              "      <td>MDVLYSLSKTLKDARDKIVEGTLYSNVSDLIQQFNQMIITMNGNEF...</td>\n",
              "      <td>161</td>\n",
              "      <td>165</td>\n",
              "      <td>SASFT</td>\n",
              "      <td>1.016</td>\n",
              "      <td>0.703</td>\n",
              "      <td>1.018</td>\n",
              "      <td>2.22</td>\n",
              "      <td>5.810364</td>\n",
              "      <td>0.103275</td>\n",
              "      <td>-0.143829</td>\n",
              "      <td>40.273300</td>\n",
              "      <td>1</td>\n",
              "    </tr>\n",
              "    <tr>\n",
              "      <th>1</th>\n",
              "      <td>F0V2I4</td>\n",
              "      <td>MTIHKVAINGFGRIGRLLFRNLLSSQGVQVVAVNDVVDIKVLTHLL...</td>\n",
              "      <td>251</td>\n",
              "      <td>255</td>\n",
              "      <td>LCLKI</td>\n",
              "      <td>0.770</td>\n",
              "      <td>0.179</td>\n",
              "      <td>1.199</td>\n",
              "      <td>-3.86</td>\n",
              "      <td>6.210876</td>\n",
              "      <td>0.065476</td>\n",
              "      <td>-0.036905</td>\n",
              "      <td>24.998512</td>\n",
              "      <td>1</td>\n",
              "    </tr>\n",
              "    <tr>\n",
              "      <th>2</th>\n",
              "      <td>O75508</td>\n",
              "      <td>MVATCLQVVGFVTSFVGWIGVIVTTSTNDWVVTCGYTIPTCRKLDE...</td>\n",
              "      <td>145</td>\n",
              "      <td>149</td>\n",
              "      <td>AHRET</td>\n",
              "      <td>0.852</td>\n",
              "      <td>3.427</td>\n",
              "      <td>0.960</td>\n",
              "      <td>4.28</td>\n",
              "      <td>8.223938</td>\n",
              "      <td>0.091787</td>\n",
              "      <td>0.879227</td>\n",
              "      <td>27.863333</td>\n",
              "      <td>1</td>\n",
              "    </tr>\n",
              "    <tr>\n",
              "      <th>3</th>\n",
              "      <td>O84462</td>\n",
              "      <td>MTNSISGYQPTVTTSTSSTTSASGASGSLGASSVSTTANATVTQTA...</td>\n",
              "      <td>152</td>\n",
              "      <td>156</td>\n",
              "      <td>SNYDD</td>\n",
              "      <td>1.410</td>\n",
              "      <td>2.548</td>\n",
              "      <td>0.936</td>\n",
              "      <td>6.32</td>\n",
              "      <td>4.237976</td>\n",
              "      <td>0.044776</td>\n",
              "      <td>-0.521393</td>\n",
              "      <td>30.765373</td>\n",
              "      <td>1</td>\n",
              "    </tr>\n",
              "    <tr>\n",
              "      <th>4</th>\n",
              "      <td>P00918</td>\n",
              "      <td>MSHHWGYGKHNGPEHWHKDFPIAKGERQSPVDIDTHTAKYDPSLKP...</td>\n",
              "      <td>85</td>\n",
              "      <td>89</td>\n",
              "      <td>DGTYR</td>\n",
              "      <td>1.214</td>\n",
              "      <td>1.908</td>\n",
              "      <td>0.937</td>\n",
              "      <td>4.64</td>\n",
              "      <td>6.867493</td>\n",
              "      <td>0.103846</td>\n",
              "      <td>-0.578846</td>\n",
              "      <td>21.684615</td>\n",
              "      <td>1</td>\n",
              "    </tr>\n",
              "  </tbody>\n",
              "</table>\n",
              "</div>"
            ],
            "text/plain": [
              "  parent_protein_id  ... target\n",
              "0            A2T3T0  ...      1\n",
              "1            F0V2I4  ...      1\n",
              "2            O75508  ...      1\n",
              "3            O84462  ...      1\n",
              "4            P00918  ...      1\n",
              "\n",
              "[5 rows x 14 columns]"
            ]
          },
          "metadata": {},
          "execution_count": 3
        }
      ]
    },
    {
      "cell_type": "code",
      "metadata": {
        "colab": {
          "base_uri": "https://localhost:8080/"
        },
        "id": "KlPm4cq_Rpio",
        "outputId": "392bb3a7-cfd6-4029-b22c-432211b01b5e"
      },
      "source": [
        "bcell.target.value_counts()"
      ],
      "execution_count": 4,
      "outputs": [
        {
          "output_type": "execute_result",
          "data": {
            "text/plain": [
              "0    10485\n",
              "1     3902\n",
              "Name: target, dtype: int64"
            ]
          },
          "metadata": {},
          "execution_count": 4
        }
      ]
    },
    {
      "cell_type": "code",
      "metadata": {
        "id": "uIitLoohBTPM"
      },
      "source": [
        "# Splitting using train_test_split form sklearn.model_selection\n",
        "\n",
        "from sklearn.model_selection import train_test_split\n",
        "from sklearn.utils import shuffle\n",
        "\n",
        "bcell = shuffle(bcell)\n",
        "\n",
        "X = bcell.drop(['target'], axis = 1)\n",
        "y = bcell['target']\n",
        "\n",
        "X_train, X_test, y_train, y_test = train_test_split(X, y, test_size=0.2)\n",
        "\n",
        "# Transforming traning dataset\n",
        "X_train = X_train.drop(['parent_protein_id', 'protein_seq', 'peptide_seq'], axis = 1)\n",
        "X_train[\"length\"] = X_train[\"end_position\"] - X_train[\"start_position\"] + 1\n",
        "\n",
        "\n",
        "# Transforming testing dataset\n",
        "X_test = X_test.drop(['parent_protein_id', 'protein_seq', 'peptide_seq'], axis = 1)\n",
        "X_test[\"length\"] = X_test[\"end_position\"] - X_test[\"start_position\"] + 1\n",
        "\n",
        "                                              "
      ],
      "execution_count": 5,
      "outputs": []
    },
    {
      "cell_type": "code",
      "metadata": {
        "id": "LU_NDgO_ECV8"
      },
      "source": [
        "# Splitting the dataset manually\n",
        "\n",
        "train_pct_index = int(0.8 * len(X))\n",
        "X_train, X_test = X[:train_pct_index], X[train_pct_index:]\n",
        "y_train, y_test = y[:train_pct_index], y[train_pct_index:]\n",
        "\n",
        "\n",
        "# Transforming traning dataset\n",
        "X_train = X_train.drop(['parent_protein_id', 'protein_seq', 'peptide_seq'], axis = 1)\n",
        "X_train[\"length\"] = X_train[\"end_position\"] - X_train[\"start_position\"] + 1\n",
        "\n",
        "\n",
        "# Transforming testing dataset\n",
        "X_test = X_test.drop(['parent_protein_id', 'protein_seq', 'peptide_seq'], axis = 1)\n",
        "X_test[\"length\"] = X_test[\"end_position\"] - X_test[\"start_position\"] + 1\n"
      ],
      "execution_count": 6,
      "outputs": []
    },
    {
      "cell_type": "code",
      "metadata": {
        "id": "82eVoABVGNzg"
      },
      "source": [
        "!pip install yellowbrick==0.9.1 scikit-learn==0.22.2\n",
        "!pip install imbalanced-learn"
      ],
      "execution_count": null,
      "outputs": []
    },
    {
      "cell_type": "code",
      "metadata": {
        "id": "Jzm-0f5FBFry"
      },
      "source": [
        "\n",
        "!pip install mlrose\n",
        "import six\n",
        "import sys\n",
        "sys.modules['sklearn.externals.six'] = six\n",
        "import mlrose\n",
        "import sklearn.neighbors._base\n",
        "sys.modules['sklearn.neighbors.base'] = sklearn.neighbors._base\n",
        "!pip install imblearn\n"
      ],
      "execution_count": null,
      "outputs": []
    },
    {
      "cell_type": "code",
      "metadata": {
        "id": "dhyXws9LXvG5"
      },
      "source": [
        "#Defining the pipeline\n",
        "\n",
        "from imblearn.over_sampling import SMOTE\n",
        "from sklearn.ensemble import RandomForestClassifier\n",
        "from imblearn.pipeline import Pipeline as imbpipeline\n",
        "from sklearn.model_selection import StratifiedKFold\n",
        "from sklearn.preprocessing import MinMaxScaler\n",
        "\n",
        "\n",
        "pipeline = imbpipeline(steps = [['smote', SMOTE()],\n",
        "                                ['scaler', MinMaxScaler()],\n",
        "                                ['classifier', RandomForestClassifier()]])\n",
        "\n",
        "stratified_kfold = StratifiedKFold(n_splits=10)"
      ],
      "execution_count": 9,
      "outputs": []
    },
    {
      "cell_type": "code",
      "metadata": {
        "id": "rlz2ZgUIa4a9",
        "colab": {
          "base_uri": "https://localhost:8080/"
        },
        "outputId": "4c1eadb9-3d2e-40ad-9877-9642b040a6d3"
      },
      "source": [
        "\n",
        "# Evaluating the model using cross-validation without tune hyperparameters (training dataset)\n",
        "\n",
        "from sklearn.model_selection import cross_val_score\n",
        "import numpy as np\n",
        "\n",
        "f1 = cross_val_score(pipeline, X_train, y_train, scoring='f1', cv=stratified_kfold, n_jobs=-1)\n",
        "roc_auc = cross_val_score(pipeline, X_train, y_train, scoring='roc_auc', cv=stratified_kfold, n_jobs=-1)\n",
        "\n",
        "# report performance\n",
        "print('F1:', np.mean(f1))\n",
        "print('AUC:', np.mean(roc_auc))"
      ],
      "execution_count": 10,
      "outputs": [
        {
          "output_type": "stream",
          "name": "stdout",
          "text": [
            "F1: 0.782051948304899\n",
            "AUC: 0.9358319844782084\n"
          ]
        }
      ]
    },
    {
      "cell_type": "code",
      "metadata": {
        "colab": {
          "base_uri": "https://localhost:8080/"
        },
        "id": "szZCTiTtFkqS",
        "outputId": "875b3c11-e9b0-44ae-e584-109120257fe5"
      },
      "source": [
        "# Evaluating the model using cross-validation and tune hyperparameters (training dataset)\n",
        "\n",
        "from sklearn.model_selection import GridSearchCV\n",
        "from sklearn.metrics import make_scorer\n",
        "from sklearn.metrics import precision_score\n",
        "from sklearn.metrics import accuracy_score\n",
        "from sklearn.metrics import recall_score\n",
        "from sklearn.metrics import fbeta_score\n",
        "from sklearn.metrics import roc_auc_score\n",
        "\n",
        "import warnings\n",
        "warnings.filterwarnings(\"ignore\")\n",
        "\n",
        "\n",
        "param_grid = {\"classifier__max_depth\": [3, None],\n",
        "              \"classifier__max_features\": [1, 3, 10],\n",
        "              \"classifier__min_samples_split\": [1, 3, 10],\n",
        "              \"classifier__min_samples_leaf\": [1, 3, 10],\n",
        "              \"classifier__criterion\": [\"gini\", \"entropy\"]}\n",
        "\n",
        "\n",
        "# Creating a dictionary with the metrics to be calculated\n",
        "scores = {'accuracy' :make_scorer(accuracy_score),\n",
        "               'recall'   :make_scorer(recall_score),\n",
        "               'precision':make_scorer(precision_score),\n",
        "               'f1'       :make_scorer(fbeta_score, beta = 1),\n",
        "               'roc_auc'  :make_scorer(roc_auc_score) }\n",
        "\n",
        "\n",
        "grid_search = GridSearchCV(estimator = pipeline,\n",
        "                      param_grid = param_grid,\n",
        "                      cv = stratified_kfold,\n",
        "                      scoring = scores,   \n",
        "                      refit = 'f1'\n",
        "                      )           \n",
        "\n",
        "\n",
        "grid_search.fit(X_train, y_train)\n",
        "\n",
        "# Prints the column names that are stored in grid_search.\n",
        "#pd.DataFrame(grid_search.cv_results_).columns.tolist()\n",
        "\n",
        "\n",
        "result = pd.DataFrame(grid_search.cv_results_)[[\n",
        "                                  'mean_test_recall',\n",
        "                                  'mean_test_precision',\n",
        "                                  'mean_test_f1',\n",
        "                                  'mean_test_roc_auc'\n",
        "                                  ]]\n",
        "\n",
        "print(result.sort_values(ascending=False, by='mean_test_f1').head())\n",
        "\n",
        "\n"
      ],
      "execution_count": 11,
      "outputs": [
        {
          "output_type": "stream",
          "name": "stdout",
          "text": [
            "     mean_test_recall  mean_test_precision  mean_test_f1  mean_test_roc_auc\n",
            "91           0.790137             0.780605      0.785084           0.853557\n",
            "37           0.786937             0.773992      0.780156           0.850584\n",
            "104          0.789830             0.769096      0.779152           0.850659\n",
            "100          0.786622             0.772130      0.779043           0.849950\n",
            "46           0.787585             0.769436      0.778235           0.849715\n"
          ]
        }
      ]
    },
    {
      "cell_type": "code",
      "metadata": {
        "colab": {
          "base_uri": "https://localhost:8080/"
        },
        "id": "XLm6BK17EGAk",
        "outputId": "ffebac21-c153-4cee-d03f-f5ad90d38699"
      },
      "source": [
        "\n",
        "# Evaluating test set prediction without hyperparameter tuning\n",
        "pipeline.fit(X_train, y_train)\n",
        "\n",
        "pred = pipeline.predict(X_test)\n",
        "print(\"F1 : \",fbeta_score(y_test, pred, beta=0.5))\n",
        "print(\"AUC: \", roc_auc_score(y_test,pred))\n"
      ],
      "execution_count": 12,
      "outputs": [
        {
          "output_type": "stream",
          "name": "stdout",
          "text": [
            "F1 :  0.7798726738491676\n",
            "AUC:  0.8652430919987837\n"
          ]
        }
      ]
    },
    {
      "cell_type": "code",
      "metadata": {
        "colab": {
          "base_uri": "https://localhost:8080/"
        },
        "id": "caY6LUlk3SI6",
        "outputId": "84b98afd-2abb-49ce-b8d1-f84047007024"
      },
      "source": [
        "# Evaluating test set prediction with hyperparameter tuning\n",
        "pred=grid_search.predict(X_test)\n",
        "print(\"F1 : \",fbeta_score(y_test, pred, beta=0.5))\n",
        "print(\"AUC: \", roc_auc_score(y_test,pred))"
      ],
      "execution_count": 13,
      "outputs": [
        {
          "output_type": "stream",
          "name": "stdout",
          "text": [
            "F1 :  0.7823129251700679\n",
            "AUC:  0.8695155325806547\n"
          ]
        }
      ]
    },
    {
      "cell_type": "markdown",
      "metadata": {
        "id": "9667nP2GjJiq"
      },
      "source": [
        "As we can see above, tuning the hyperparameters slightly improves the model's performance."
      ]
    }
  ]
}